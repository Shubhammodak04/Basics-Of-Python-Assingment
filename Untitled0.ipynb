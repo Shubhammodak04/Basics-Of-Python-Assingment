{
  "nbformat": 4,
  "nbformat_minor": 0,
  "metadata": {
    "colab": {
      "provenance": []
    },
    "kernelspec": {
      "name": "python3",
      "display_name": "Python 3"
    },
    "language_info": {
      "name": "python"
    }
  },
  "cells": [
    {
      "cell_type": "code",
      "execution_count": null,
      "metadata": {
        "id": "MTnBNqGM40tt"
      },
      "outputs": [],
      "source": []
    },
    {
      "cell_type": "markdown",
      "source": [
        "#Python Basic ASSINGMENT\n"
      ],
      "metadata": {
        "id": "Wg-BOBTn41eA"
      }
    },
    {
      "cell_type": "code",
      "source": [],
      "metadata": {
        "id": "KuhFqDOs48Kd"
      },
      "execution_count": null,
      "outputs": []
    },
    {
      "cell_type": "markdown",
      "source": [
        "1-What is Python, and why is it popular?\n",
        "\n",
        " -> Python is a high-level, interpreted programming language that is widely used for web development, data analysis, artificial intelligence (AI), machine learning (ML), automation, and more.\n",
        " It is popular because easy and friendly interface and also powerfull programming language which is easy to understand for beginners aswell proffesionals thatswhy now a days mainly all companies uses Python.\n",
        "\n",
        "2-What is an interpreter in Python ?\n",
        "\n",
        "  -> A Python interpreter is the program that runs your Python code step by step.\n",
        "\n",
        "3- What are pre-defined keywords in Python ?\n",
        "   \n",
        "   -> Pre-defined keywords in Python are special words reserved by Python, and you cannot use them for anything else.\n",
        "\n",
        "4- Can keywords be used as variable names?\n",
        "  \n",
        "  -> You cannot use Python keywords like if, for, def, class, etc., as variable names.\n",
        "\n",
        "5- What is mutability in Python?\n",
        "\n",
        " -> Mutability in python means we can change it after creation.\n",
        "\n",
        "6-  Why are lists mutable, but tuples are immutable ?\n",
        "\n",
        " -> List Mutable Because we can change it after creation But in Tuples we can not change it after creation thatswhy tuples are immutubale.\n",
        "\n",
        "7- What is the difference between “==” and “is” operators in Python ?\n",
        "\n",
        " -> == checks if values are the same.(is) checks if both variables point to the same object in memory.\n",
        "\n",
        "8-  What are logical operators in Python ?\n",
        "\n",
        " -> Logical operators in Python are used to combine conditional statements and work with Boolean values (True/False).\n",
        "\n",
        "9- What is type casting in Python ?\n",
        "\n",
        " -> Type casting in Python means converting the data type of a value into another data type.It allows you to change the type of a variable.\n",
        "\n",
        "10- What is the difference between implicit and explicit type casting ?\n",
        "\n",
        " -> Implict Means What Python does for you.\n",
        "    And explicit You do it manually.\n",
        "\n",
        "11- What is the purpose of conditional statements in Python ?\n",
        "\n",
        " -> Conditional statements help your program “decide what to do next” based on the situation.\n",
        "\n",
        "12- How does the elif statement work ?\n",
        "\n",
        " -> The elif (else if) statement is used when you want to check multiple conditions in a program.\n",
        "\n",
        "13- What is the difference between for and while loops ?\n",
        "\n",
        " -> for loop = \"Do this a set number of times.\"\n",
        "    while loop = \"Keep doing this until something changes.\"\n",
        "\n",
        "\n",
        "14- Describe a scenario where a while loop is more suitable than a for loop.\n",
        "\n",
        " -> ✅ Scenario where a while loop is more suitable than a for loop\n",
        "    A while loop is better when:\n",
        "    You don’t know in advance how many times the loop will run.\n",
        "    The loop should continue until a certain condition changes (instead of iterating over a fixed sequence).\n",
        "\n",
        "#Practical Questions\n",
        "\n",
        "1- Write a Python program to print \"Hello, World\"!\n"
      ],
      "metadata": {
        "id": "jhU-Oqxw49Jp"
      }
    },
    {
      "cell_type": "code",
      "source": [
        "print('Hello,World')"
      ],
      "metadata": {
        "colab": {
          "base_uri": "https://localhost:8080/"
        },
        "id": "VDxhYqe6I-cc",
        "outputId": "f142e92f-a117-4a10-d64e-7ce3342ceb1e"
      },
      "execution_count": 6,
      "outputs": [
        {
          "output_type": "stream",
          "name": "stdout",
          "text": [
            "Hello,World\n"
          ]
        }
      ]
    },
    {
      "cell_type": "markdown",
      "source": [
        "2- Write a Python program that displays your name and age"
      ],
      "metadata": {
        "id": "wc9ifqzSI_F4"
      }
    },
    {
      "cell_type": "code",
      "source": [
        "name = \"Shubham Modak\"\n",
        "age = 28\n",
        "\n",
        "print(\"My name is\", name)\n",
        "print(\"I am\", age, \"years old\")"
      ],
      "metadata": {
        "colab": {
          "base_uri": "https://localhost:8080/"
        },
        "id": "pzLrthgAI_nK",
        "outputId": "e3958730-da0c-411a-db96-a81137057e16"
      },
      "execution_count": 8,
      "outputs": [
        {
          "output_type": "stream",
          "name": "stdout",
          "text": [
            "My name is Shubham Modak\n",
            "I am 28 years old\n"
          ]
        }
      ]
    },
    {
      "cell_type": "markdown",
      "source": [
        "3- Write code to print all the pre-defined keywords in Python using the keyword library."
      ],
      "metadata": {
        "id": "Bt5zBNjCMnp-"
      }
    },
    {
      "cell_type": "code",
      "source": [
        "# Import the keyword module\n",
        "import keyword\n",
        "\n",
        "# Get the list of all keywords\n",
        "keywords_list = keyword.kwlist\n",
        "\n",
        "# Print the list of keywords\n",
        "print(\"Python Keywords:\")\n",
        "for kw in keywords_list:\n",
        "    print(kw)\n"
      ],
      "metadata": {
        "colab": {
          "base_uri": "https://localhost:8080/"
        },
        "id": "IjG_wEvuLtwD",
        "outputId": "208ed5e8-449a-4a7f-c7f0-795748bf7df4"
      },
      "execution_count": 13,
      "outputs": [
        {
          "output_type": "stream",
          "name": "stdout",
          "text": [
            "Python Keywords:\n",
            "False\n",
            "None\n",
            "True\n",
            "and\n",
            "as\n",
            "assert\n",
            "async\n",
            "await\n",
            "break\n",
            "class\n",
            "continue\n",
            "def\n",
            "del\n",
            "elif\n",
            "else\n",
            "except\n",
            "finally\n",
            "for\n",
            "from\n",
            "global\n",
            "if\n",
            "import\n",
            "in\n",
            "is\n",
            "lambda\n",
            "nonlocal\n",
            "not\n",
            "or\n",
            "pass\n",
            "raise\n",
            "return\n",
            "try\n",
            "while\n",
            "with\n",
            "yield\n"
          ]
        }
      ]
    },
    {
      "cell_type": "markdown",
      "source": [
        "4- Write a program that checks if a given word is a Python keyword."
      ],
      "metadata": {
        "id": "8TQwQA_oN0NF"
      }
    },
    {
      "cell_type": "code",
      "source": [
        "import keyword\n",
        "\n",
        "def check_if_keyword(word):\n",
        "  \"\"\"\n",
        "  Checks if a given word is a Python keyword.\n",
        "\n",
        "  Args:\n",
        "    word: The string to check.\n",
        "\n",
        "  Returns:\n",
        "    True if the word is a Python keyword, False otherwise.\n",
        "  \"\"\"\n",
        "  return keyword.iskeyword(word)\n",
        "\n",
        "if __name__ == \"__main__\":\n",
        "  user_input = input(\"Enter a word to check if it's a Python keyword: \")\n",
        "\n",
        "  if check_if_keyword(user_input):\n",
        "    print(f\"'{user_input}' is a Python keyword.\")\n",
        "  else:\n",
        "    print(f\"'{user_input}' is not a Python keyword.\")"
      ],
      "metadata": {
        "colab": {
          "base_uri": "https://localhost:8080/"
        },
        "id": "2TjkXTziUZTO",
        "outputId": "57101de6-0d53-4468-af2e-f1734667511b"
      },
      "execution_count": 16,
      "outputs": [
        {
          "output_type": "stream",
          "name": "stdout",
          "text": [
            "Enter a word to check if it's a Python keyword: if\n",
            "'if' is a Python keyword.\n"
          ]
        }
      ]
    },
    {
      "cell_type": "markdown",
      "source": [
        "5- Create a list and tuple in Python, and demonstrate how attempting to change an element works differently\n",
        "for each."
      ],
      "metadata": {
        "id": "OnTbVFugPe6G"
      }
    },
    {
      "cell_type": "code",
      "source": [
        "my_list = [10, 20, 30, 40]\n",
        "print(f\"Original list: {my_list}\")\n",
        "\n",
        "# Attempting to change an element in a list\n",
        "my_list[1] = 25\n",
        "print(f\"Modified list: {my_list}\")"
      ],
      "metadata": {
        "colab": {
          "base_uri": "https://localhost:8080/"
        },
        "id": "Wx-YC6k8PrPV",
        "outputId": "bc05d3d2-f04f-4016-b08f-7386a79f8463"
      },
      "execution_count": 17,
      "outputs": [
        {
          "output_type": "stream",
          "name": "stdout",
          "text": [
            "Original list: [10, 20, 30, 40]\n",
            "Modified list: [10, 25, 30, 40]\n"
          ]
        }
      ]
    },
    {
      "cell_type": "markdown",
      "source": [
        "6- Write a function to demonstrate the behavior of mutable and immutable arguments."
      ],
      "metadata": {
        "id": "PTSjJ_DhP-iZ"
      }
    },
    {
      "cell_type": "code",
      "source": [
        "# Function to modify mutable and immutable arguments\n",
        "def modify_arguments(immutable_arg, mutable_arg):\n",
        "    print(\"Inside function (before modification):\")\n",
        "    print(\"immutable_arg =\", immutable_arg)\n",
        "    print(\"mutable_arg =\", mutable_arg)\n",
        "\n",
        "    # Try to modify the immutable argument (integer)\n",
        "    immutable_arg += 100\n",
        "\n",
        "    # Modify the mutable argument (list)\n",
        "    mutable_arg.append(100)\n",
        "\n",
        "    print(\"\\nInside function (after modification):\")\n",
        "    print(\"immutable_arg =\", immutable_arg)\n",
        "    print(\"mutable_arg =\", mutable_arg)\n",
        "\n",
        "# Immutable argument: Integer\n",
        "num = 50\n",
        "\n",
        "# Mutable argument: List\n",
        "my_list = [1, 2, 3]\n",
        "\n",
        "# Call the function\n",
        "modify_arguments(num, my_list)\n",
        "\n",
        "print(\"\\nOutside function (after function call):\")\n",
        "print(\"num =\", num)\n",
        "print(\"my_list =\", my_list)\n"
      ],
      "metadata": {
        "colab": {
          "base_uri": "https://localhost:8080/"
        },
        "id": "oQayi98OQJ3z",
        "outputId": "e265d885-a1bb-44b2-a071-0a016adf6b11"
      },
      "execution_count": 18,
      "outputs": [
        {
          "output_type": "stream",
          "name": "stdout",
          "text": [
            "Inside function (before modification):\n",
            "immutable_arg = 50\n",
            "mutable_arg = [1, 2, 3]\n",
            "\n",
            "Inside function (after modification):\n",
            "immutable_arg = 150\n",
            "mutable_arg = [1, 2, 3, 100]\n",
            "\n",
            "Outside function (after function call):\n",
            "num = 50\n",
            "my_list = [1, 2, 3, 100]\n"
          ]
        }
      ]
    },
    {
      "cell_type": "markdown",
      "source": [
        "7- Write a program that performs basic arithmetic operations on two user-input numbers"
      ],
      "metadata": {
        "id": "AGx3Lb9OVVXQ"
      }
    },
    {
      "cell_type": "code",
      "source": [
        "# Get input from the user\n",
        "num1 = float(input(\"Enter the first number: \"))\n",
        "num2 = float(input(\"Enter the second number: \"))\n",
        "\n",
        "# Perform arithmetic operations\n",
        "print(\"\\nBasic Arithmetic Operations:\")\n",
        "print(f\"Addition: {num1} + {num2} = {num1 + num2}\")\n",
        "print(f\"Subtraction: {num1} - {num2} = {num1 - num2}\")\n",
        "print(f\"Multiplication: {num1} * {num2} = {num1 * num2}\")\n",
        "\n",
        "# Check for division by zero\n",
        "if num2 != 0:\n",
        "    print(f\"Division: {num1} / {num2} = {num1 / num2}\")\n",
        "    print(f\"Modulus: {num1} % {num2} = {num1 % num2}\")\n",
        "else:\n",
        "    print(\"Division and Modulus: Cannot divide by zero!\")\n"
      ],
      "metadata": {
        "colab": {
          "base_uri": "https://localhost:8080/"
        },
        "id": "Ttz1rUCcVTCX",
        "outputId": "8aaa3a26-5374-4b06-f026-5b2ad8a94f67"
      },
      "execution_count": 19,
      "outputs": [
        {
          "output_type": "stream",
          "name": "stdout",
          "text": [
            "Enter the first number: 10\n",
            "Enter the second number: 5\n",
            "\n",
            "Basic Arithmetic Operations:\n",
            "Addition: 10.0 + 5.0 = 15.0\n",
            "Subtraction: 10.0 - 5.0 = 5.0\n",
            "Multiplication: 10.0 * 5.0 = 50.0\n",
            "Division: 10.0 / 5.0 = 2.0\n",
            "Modulus: 10.0 % 5.0 = 0.0\n"
          ]
        }
      ]
    },
    {
      "cell_type": "markdown",
      "source": [
        "8- Write a program to demonstrate the use of logical operators."
      ],
      "metadata": {
        "id": "vIC85mE0VnUN"
      }
    },
    {
      "cell_type": "code",
      "source": [
        "# Get two numbers from the user\n",
        "num1 = int(input(\"Enter the first number: \"))\n",
        "num2 = int(input(\"Enter the second number: \"))\n",
        "\n",
        "# Demonstrate logical AND\n",
        "print(\"\\nLogical AND:\")\n",
        "if num1 > 0 and num2 > 0:\n",
        "    print(\"Both numbers are positive.\")\n",
        "else:\n",
        "    print(\"At least one number is not positive.\")\n",
        "\n",
        "# Demonstrate logical OR\n",
        "print(\"\\nLogical OR:\")\n",
        "if num1 > 0 or num2 > 0:\n",
        "    print(\"At least one number is positive.\")\n",
        "else:\n",
        "    print(\"Neither number is positive.\")\n",
        "\n",
        "# Demonstrate logical NOT\n",
        "print(\"\\nLogical NOT:\")\n",
        "if not (num1 < 0):\n",
        "    print(\"First number is NOT negative.\")\n",
        "else:\n",
        "    print(\"First number is negative.\")\n"
      ],
      "metadata": {
        "colab": {
          "base_uri": "https://localhost:8080/"
        },
        "id": "M--l_KFmVgvK",
        "outputId": "63f325ec-6bfd-42d2-89d5-aaa20420a92a"
      },
      "execution_count": 20,
      "outputs": [
        {
          "output_type": "stream",
          "name": "stdout",
          "text": [
            "Enter the first number: 10\n",
            "Enter the second number: 10\n",
            "\n",
            "Logical AND:\n",
            "Both numbers are positive.\n",
            "\n",
            "Logical OR:\n",
            "At least one number is positive.\n",
            "\n",
            "Logical NOT:\n",
            "First number is NOT negative.\n"
          ]
        }
      ]
    },
    {
      "cell_type": "markdown",
      "source": [
        "9-  Write a Python program to convert user input from string to integer, float, and boolean types"
      ],
      "metadata": {
        "id": "LJTdbWz4V4km"
      }
    },
    {
      "cell_type": "code",
      "source": [
        "# Get user input as a string\n",
        "user_input = input(\"Enter a value: \")\n",
        "\n",
        "# Convert to integer\n",
        "try:\n",
        "    int_value = int(user_input)\n",
        "    print(\"Integer value:\", int_value)\n",
        "except ValueError:\n",
        "    print(\"Cannot convert to Integer.\")\n",
        "\n",
        "# Convert to float\n",
        "try:\n",
        "    float_value = float(user_input)\n",
        "    print(\"Float value:\", float_value)\n",
        "except ValueError:\n",
        "    print(\"Cannot convert to Float.\")\n",
        "\n",
        "# Convert to boolean\n",
        "# Note: In Python, only empty string (\"\") converts to False, everything else is True\n",
        "bool_value = bool(user_input)\n",
        "print(\"Boolean value:\", bool_value)\n"
      ],
      "metadata": {
        "colab": {
          "base_uri": "https://localhost:8080/"
        },
        "id": "p_flq1PZVyM9",
        "outputId": "f05b334f-ad45-4233-a969-db3223c7ada4"
      },
      "execution_count": 21,
      "outputs": [
        {
          "output_type": "stream",
          "name": "stdout",
          "text": [
            "Enter a value: 50\n",
            "Integer value: 50\n",
            "Float value: 50.0\n",
            "Boolean value: True\n"
          ]
        }
      ]
    },
    {
      "cell_type": "code",
      "source": [],
      "metadata": {
        "id": "Gb_jiRljWBki"
      },
      "execution_count": null,
      "outputs": []
    },
    {
      "cell_type": "markdown",
      "source": [
        "10- Write code to demonstrate type casting with list elements."
      ],
      "metadata": {
        "id": "2mKFFyhTWEny"
      }
    },
    {
      "cell_type": "code",
      "source": [
        "# Original list of strings\n",
        "string_list = [\"10\", \"20\", \"30\", \"40\"]\n",
        "\n",
        "print(\"Original list (strings):\", string_list)\n",
        "\n",
        "# Convert each element to integer\n",
        "int_list = [int(x) for x in string_list]\n",
        "print(\"List after converting to integers:\", int_list)\n",
        "\n",
        "# Convert each element to float\n",
        "float_list = [float(x) for x in string_list]\n",
        "print(\"List after converting to floats:\", float_list)\n",
        "\n",
        "# Convert each element to boolean\n",
        "bool_list = [bool(x) for x in string_list]\n",
        "print(\"List after converting to booleans:\", bool_list)\n"
      ],
      "metadata": {
        "colab": {
          "base_uri": "https://localhost:8080/"
        },
        "id": "cvbrl7sHWNmJ",
        "outputId": "9a7414e2-8f89-48ac-ff4c-2eeb5f107b9f"
      },
      "execution_count": 22,
      "outputs": [
        {
          "output_type": "stream",
          "name": "stdout",
          "text": [
            "Original list (strings): ['10', '20', '30', '40']\n",
            "List after converting to integers: [10, 20, 30, 40]\n",
            "List after converting to floats: [10.0, 20.0, 30.0, 40.0]\n",
            "List after converting to booleans: [True, True, True, True]\n"
          ]
        }
      ]
    },
    {
      "cell_type": "markdown",
      "source": [
        "10- Write a program that checks if a number is positive, negative, or zero."
      ],
      "metadata": {
        "id": "shk3NVkMWUnf"
      }
    },
    {
      "cell_type": "code",
      "source": [
        "# Original list of strings\n",
        "string_list = [\"10\", \"20\", \"30\", \"40\"]\n",
        "\n",
        "print(\"Original list (strings):\", string_list)\n",
        "\n",
        "# Convert each element to integer\n",
        "int_list = [int(x) for x in string_list]\n",
        "print(\"List after converting to integers:\", int_list)\n",
        "\n",
        "# Convert each element to float\n",
        "float_list = [float(x) for x in string_list]\n",
        "print(\"List after converting to floats:\", float_list)\n",
        "\n",
        "# Convert each element to boolean\n",
        "bool_list = [bool(x) for x in string_list]\n",
        "print(\"List after converting to booleans:\", bool_list)\n"
      ],
      "metadata": {
        "colab": {
          "base_uri": "https://localhost:8080/"
        },
        "id": "1fiQXNJ5WZPu",
        "outputId": "7b3737ac-2dad-4f44-c7fa-8be638de6d75"
      },
      "execution_count": 23,
      "outputs": [
        {
          "output_type": "stream",
          "name": "stdout",
          "text": [
            "Original list (strings): ['10', '20', '30', '40']\n",
            "List after converting to integers: [10, 20, 30, 40]\n",
            "List after converting to floats: [10.0, 20.0, 30.0, 40.0]\n",
            "List after converting to booleans: [True, True, True, True]\n"
          ]
        }
      ]
    },
    {
      "cell_type": "markdown",
      "source": [
        "12- Write a for loop to print numbers from 1 to 10."
      ],
      "metadata": {
        "id": "NNYpqZmlWe0-"
      }
    },
    {
      "cell_type": "code",
      "source": [
        "# Print numbers from 1 to 10 using a for loop\n",
        "for i in range(1, 11):\n",
        "    print(i)\n"
      ],
      "metadata": {
        "colab": {
          "base_uri": "https://localhost:8080/"
        },
        "id": "E-sWr0S6Wpiv",
        "outputId": "df1140af-e59f-4000-f4a9-1a9ea6426d12"
      },
      "execution_count": 24,
      "outputs": [
        {
          "output_type": "stream",
          "name": "stdout",
          "text": [
            "1\n",
            "2\n",
            "3\n",
            "4\n",
            "5\n",
            "6\n",
            "7\n",
            "8\n",
            "9\n",
            "10\n"
          ]
        }
      ]
    },
    {
      "cell_type": "markdown",
      "source": [
        "13- Write a Python program to find the sum of all even numbers between 1 and 50"
      ],
      "metadata": {
        "id": "5Bd2ZmRJWvtU"
      }
    },
    {
      "cell_type": "code",
      "source": [
        "# Initialize sum\n",
        "even_sum = 0\n",
        "\n",
        "# Loop through numbers from 1 to 50\n",
        "for num in range(1, 51):\n",
        "    if num % 2 == 0:  # Check if the number is even\n",
        "        even_sum += num\n",
        "\n",
        "# Print the result\n",
        "print(\"The sum of all even numbers from 1 to 50 is:\", even_sum)\n"
      ],
      "metadata": {
        "colab": {
          "base_uri": "https://localhost:8080/"
        },
        "id": "BfdT5QDFW1hs",
        "outputId": "f34be5b7-4c92-4765-b3ef-16212306ab5e"
      },
      "execution_count": 25,
      "outputs": [
        {
          "output_type": "stream",
          "name": "stdout",
          "text": [
            "The sum of all even numbers from 1 to 50 is: 650\n"
          ]
        }
      ]
    },
    {
      "cell_type": "markdown",
      "source": [
        "14- Write a program to reverse a string using a while loop."
      ],
      "metadata": {
        "id": "dEgZvjPOW5Nh"
      }
    },
    {
      "cell_type": "code",
      "source": [
        "# Get input from the user\n",
        "string = input(\"Enter a string: \")\n",
        "\n",
        "# Initialize variables\n",
        "reversed_string = \"\"\n",
        "index = len(string) - 1\n",
        "\n",
        "# Reverse the string using a while loop\n",
        "while index >= 0:\n",
        "    reversed_string += string[index]\n",
        "    index -= 1\n",
        "\n",
        "# Print the reversed string\n",
        "print(\"Reversed string:\", reversed_string)\n"
      ],
      "metadata": {
        "colab": {
          "base_uri": "https://localhost:8080/"
        },
        "id": "JSB0F97iW_Mo",
        "outputId": "d5fd94cf-8c97-4358-d30e-dc9520104119"
      },
      "execution_count": 26,
      "outputs": [
        {
          "output_type": "stream",
          "name": "stdout",
          "text": [
            "Enter a string: Hello World\n",
            "Reversed string: dlroW olleH\n"
          ]
        }
      ]
    },
    {
      "cell_type": "code",
      "source": [],
      "metadata": {
        "id": "kebIMbXbWTG_"
      },
      "execution_count": null,
      "outputs": []
    },
    {
      "cell_type": "markdown",
      "source": [
        "15- Write a Python program to calculate the factorial of a number provided by the user using a while loop."
      ],
      "metadata": {
        "id": "IRwFDOc9XImW"
      }
    },
    {
      "cell_type": "code",
      "source": [
        "# Get input from the user\n",
        "num = int(input(\"Enter a number to find its factorial: \"))\n",
        "\n",
        "# Initialize variables\n",
        "factorial = 1\n",
        "i = 1\n",
        "\n",
        "# Check if the number is negative, zero or positive\n",
        "if num < 0:\n",
        "    print(\"Factorial does not exist for negative numbers.\")\n",
        "elif num == 0:\n",
        "    print(\"The factorial of 0 is 1.\")\n",
        "else:\n",
        "    # Calculate factorial using while loop\n",
        "    while i <= num:\n",
        "        factorial *= i\n",
        "        i += 1\n",
        "    print(f\"The factorial of {num} is {factorial}.\")\n"
      ],
      "metadata": {
        "colab": {
          "base_uri": "https://localhost:8080/"
        },
        "id": "jWcxaKZuXPSY",
        "outputId": "5c9a4904-3648-455c-b700-8bcf3b88d926"
      },
      "execution_count": 27,
      "outputs": [
        {
          "output_type": "stream",
          "name": "stdout",
          "text": [
            "Enter a number to find its factorial: 4\n",
            "The factorial of 4 is 24.\n"
          ]
        }
      ]
    },
    {
      "cell_type": "code",
      "source": [],
      "metadata": {
        "id": "_EdpWAIwXR6M"
      },
      "execution_count": null,
      "outputs": []
    }
  ]
}